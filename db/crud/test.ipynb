{
 "cells": [
  {
   "cell_type": "code",
   "execution_count": 1,
   "metadata": {},
   "outputs": [],
   "source": [
    "import os\n",
    "os.chdir(\"../../\")"
   ]
  },
  {
   "cell_type": "code",
   "execution_count": 2,
   "metadata": {},
   "outputs": [],
   "source": [
    "from db.crud.crud_manager import CRUD\n",
    "from db.db import DatabaseManager\n",
    "from db.crud.crud_model import InsertTableModel,ColumnModel"
   ]
  },
  {
   "cell_type": "code",
   "execution_count": 3,
   "metadata": {},
   "outputs": [],
   "source": [
    "db=DatabaseManager(\"sqlite:///example.db\")"
   ]
  },
  {
   "cell_type": "code",
   "execution_count": 4,
   "metadata": {},
   "outputs": [],
   "source": [
    "crud=CRUD(db)"
   ]
  },
  {
   "cell_type": "code",
   "execution_count": 5,
   "metadata": {},
   "outputs": [],
   "source": [
    "table_model=InsertTableModel(\n",
    "    table_to_insert=[\n",
    "        ColumnModel(column_name=\"id\",data=8),\n",
    "        ColumnModel(column_name=\"name\",data=\"Camila Cifarelli\"),\n",
    "        ColumnModel(column_name=\"age\",data=22),\n",
    "        ColumnModel(column_name=\"height\",data=1.72)\n",
    "    ]\n",
    ")"
   ]
  },
  {
   "cell_type": "code",
   "execution_count": 6,
   "metadata": {},
   "outputs": [
    {
     "name": "stdout",
     "output_type": "stream",
     "text": [
      "2024-09-24 20:21:57,442 INFO sqlalchemy.engine.Engine BEGIN (implicit)\n",
      "2024-09-24 20:21:57,443 INFO sqlalchemy.engine.Engine PRAGMA main.table_xinfo(\"test_table\")\n",
      "2024-09-24 20:21:57,444 INFO sqlalchemy.engine.Engine [raw sql] ()\n",
      "2024-09-24 20:21:57,446 INFO sqlalchemy.engine.Engine SELECT sql FROM  (SELECT * FROM sqlite_master UNION ALL   SELECT * FROM sqlite_temp_master) WHERE name = ? AND type in ('table', 'view')\n",
      "2024-09-24 20:21:57,447 INFO sqlalchemy.engine.Engine [raw sql] ('test_table',)\n",
      "2024-09-24 20:21:57,449 INFO sqlalchemy.engine.Engine PRAGMA main.foreign_key_list(\"test_table\")\n",
      "2024-09-24 20:21:57,450 INFO sqlalchemy.engine.Engine [raw sql] ()\n",
      "2024-09-24 20:21:57,451 INFO sqlalchemy.engine.Engine PRAGMA temp.foreign_key_list(\"test_table\")\n",
      "2024-09-24 20:21:57,453 INFO sqlalchemy.engine.Engine [raw sql] ()\n",
      "2024-09-24 20:21:57,454 INFO sqlalchemy.engine.Engine SELECT sql FROM  (SELECT * FROM sqlite_master UNION ALL   SELECT * FROM sqlite_temp_master) WHERE name = ? AND type in ('table', 'view')\n",
      "2024-09-24 20:21:57,455 INFO sqlalchemy.engine.Engine [raw sql] ('test_table',)\n",
      "2024-09-24 20:21:57,458 INFO sqlalchemy.engine.Engine PRAGMA main.index_list(\"test_table\")\n",
      "2024-09-24 20:21:57,459 INFO sqlalchemy.engine.Engine [raw sql] ()\n",
      "2024-09-24 20:21:57,461 INFO sqlalchemy.engine.Engine PRAGMA temp.index_list(\"test_table\")\n",
      "2024-09-24 20:21:57,462 INFO sqlalchemy.engine.Engine [raw sql] ()\n",
      "2024-09-24 20:21:57,463 INFO sqlalchemy.engine.Engine PRAGMA main.table_info(\"test_table\")\n",
      "2024-09-24 20:21:57,463 INFO sqlalchemy.engine.Engine [raw sql] ()\n",
      "2024-09-24 20:21:57,465 INFO sqlalchemy.engine.Engine PRAGMA main.index_list(\"test_table\")\n",
      "2024-09-24 20:21:57,466 INFO sqlalchemy.engine.Engine [raw sql] ()\n",
      "2024-09-24 20:21:57,467 INFO sqlalchemy.engine.Engine PRAGMA temp.index_list(\"test_table\")\n",
      "2024-09-24 20:21:57,468 INFO sqlalchemy.engine.Engine [raw sql] ()\n",
      "2024-09-24 20:21:57,469 INFO sqlalchemy.engine.Engine PRAGMA main.table_info(\"test_table\")\n",
      "2024-09-24 20:21:57,470 INFO sqlalchemy.engine.Engine [raw sql] ()\n",
      "2024-09-24 20:21:57,472 INFO sqlalchemy.engine.Engine SELECT sql FROM  (SELECT * FROM sqlite_master UNION ALL   SELECT * FROM sqlite_temp_master) WHERE name = ? AND type in ('table', 'view')\n",
      "2024-09-24 20:21:57,473 INFO sqlalchemy.engine.Engine [raw sql] ('test_table',)\n",
      "2024-09-24 20:21:57,476 INFO sqlalchemy.engine.Engine ROLLBACK\n",
      "2024-09-24 20:21:57,478 INFO sqlalchemy.engine.Engine BEGIN (implicit)\n",
      "2024-09-24 20:21:57,481 INFO sqlalchemy.engine.Engine INSERT INTO test_table (id, name, age, height) VALUES (?, ?, ?, ?)\n",
      "2024-09-24 20:21:57,482 INFO sqlalchemy.engine.Engine [generated in 0.00117s] (8, 'Camila Cifarelli', 22, 1.72)\n",
      "2024-09-24 20:21:57,484 INFO sqlalchemy.engine.Engine COMMIT\n"
     ]
    },
    {
     "data": {
      "text/plain": [
       "\"Record added to 'test_table'!\""
      ]
     },
     "execution_count": 6,
     "metadata": {},
     "output_type": "execute_result"
    }
   ],
   "source": [
    "crud.create_record(table_name=\"test_table\",\n",
    "                   data=table_model)"
   ]
  },
  {
   "cell_type": "code",
   "execution_count": 8,
   "metadata": {},
   "outputs": [
    {
     "name": "stdout",
     "output_type": "stream",
     "text": [
      "2024-09-24 20:26:06,565 INFO sqlalchemy.engine.Engine SELECT test_table.id AS test_table_id, test_table.name AS test_table_name, test_table.age AS test_table_age, test_table.height AS test_table_height \n",
      "FROM test_table \n",
      "WHERE test_table.id = ?\n",
      "2024-09-24 20:26:06,566 INFO sqlalchemy.engine.Engine [cached since 2.793s ago] (2,)\n"
     ]
    },
    {
     "data": {
      "text/plain": [
       "QueryTableModel(table_query=[ColumnModel(column_name='id', data=2), ColumnModel(column_name='name', data='Tomas Navarro'), ColumnModel(column_name='age', data=29), ColumnModel(column_name='height', data=1.7)])"
      ]
     },
     "execution_count": 8,
     "metadata": {},
     "output_type": "execute_result"
    }
   ],
   "source": [
    "crud.read_record(table_name=\"test_table\",\n",
    "                 filters=InsertTableModel(table_to_insert=[\n",
    "                    ColumnModel(column_name=\"id\",data=2)\n",
    "]))"
   ]
  },
  {
   "cell_type": "code",
   "execution_count": 5,
   "metadata": {},
   "outputs": [
    {
     "name": "stdout",
     "output_type": "stream",
     "text": [
      "2024-09-22 22:30:02,661 INFO sqlalchemy.engine.Engine BEGIN (implicit)\n",
      "2024-09-22 22:30:02,662 INFO sqlalchemy.engine.Engine PRAGMA main.table_xinfo(\"test_table\")\n",
      "2024-09-22 22:30:02,663 INFO sqlalchemy.engine.Engine [raw sql] ()\n",
      "2024-09-22 22:30:02,665 INFO sqlalchemy.engine.Engine SELECT sql FROM  (SELECT * FROM sqlite_master UNION ALL   SELECT * FROM sqlite_temp_master) WHERE name = ? AND type in ('table', 'view')\n",
      "2024-09-22 22:30:02,666 INFO sqlalchemy.engine.Engine [raw sql] ('test_table',)\n",
      "2024-09-22 22:30:02,668 INFO sqlalchemy.engine.Engine PRAGMA main.foreign_key_list(\"test_table\")\n",
      "2024-09-22 22:30:02,669 INFO sqlalchemy.engine.Engine [raw sql] ()\n",
      "2024-09-22 22:30:02,670 INFO sqlalchemy.engine.Engine PRAGMA temp.foreign_key_list(\"test_table\")\n",
      "2024-09-22 22:30:02,671 INFO sqlalchemy.engine.Engine [raw sql] ()\n",
      "2024-09-22 22:30:02,672 INFO sqlalchemy.engine.Engine SELECT sql FROM  (SELECT * FROM sqlite_master UNION ALL   SELECT * FROM sqlite_temp_master) WHERE name = ? AND type in ('table', 'view')\n",
      "2024-09-22 22:30:02,673 INFO sqlalchemy.engine.Engine [raw sql] ('test_table',)\n",
      "2024-09-22 22:30:02,676 INFO sqlalchemy.engine.Engine PRAGMA main.index_list(\"test_table\")\n",
      "2024-09-22 22:30:02,676 INFO sqlalchemy.engine.Engine [raw sql] ()\n",
      "2024-09-22 22:30:02,679 INFO sqlalchemy.engine.Engine PRAGMA temp.index_list(\"test_table\")\n",
      "2024-09-22 22:30:02,680 INFO sqlalchemy.engine.Engine [raw sql] ()\n",
      "2024-09-22 22:30:02,681 INFO sqlalchemy.engine.Engine PRAGMA main.table_info(\"test_table\")\n",
      "2024-09-22 22:30:02,681 INFO sqlalchemy.engine.Engine [raw sql] ()\n",
      "2024-09-22 22:30:02,683 INFO sqlalchemy.engine.Engine PRAGMA main.index_list(\"test_table\")\n",
      "2024-09-22 22:30:02,684 INFO sqlalchemy.engine.Engine [raw sql] ()\n",
      "2024-09-22 22:30:02,685 INFO sqlalchemy.engine.Engine PRAGMA temp.index_list(\"test_table\")\n",
      "2024-09-22 22:30:02,686 INFO sqlalchemy.engine.Engine [raw sql] ()\n",
      "2024-09-22 22:30:02,687 INFO sqlalchemy.engine.Engine PRAGMA main.table_info(\"test_table\")\n",
      "2024-09-22 22:30:02,687 INFO sqlalchemy.engine.Engine [raw sql] ()\n",
      "2024-09-22 22:30:02,688 INFO sqlalchemy.engine.Engine SELECT sql FROM  (SELECT * FROM sqlite_master UNION ALL   SELECT * FROM sqlite_temp_master) WHERE name = ? AND type in ('table', 'view')\n",
      "2024-09-22 22:30:02,689 INFO sqlalchemy.engine.Engine [raw sql] ('test_table',)\n",
      "2024-09-22 22:30:02,692 INFO sqlalchemy.engine.Engine ROLLBACK\n",
      "2024-09-22 22:30:02,694 INFO sqlalchemy.engine.Engine BEGIN (implicit)\n",
      "2024-09-22 22:30:02,697 INFO sqlalchemy.engine.Engine UPDATE test_table SET id=? WHERE test_table.id = ?\n",
      "2024-09-22 22:30:02,698 INFO sqlalchemy.engine.Engine [generated in 0.00117s] (4, 3)\n",
      "2024-09-22 22:30:02,717 INFO sqlalchemy.engine.Engine COMMIT\n"
     ]
    },
    {
     "data": {
      "text/plain": [
       "\"Record(s) updated in 'test_table'!\""
      ]
     },
     "execution_count": 5,
     "metadata": {},
     "output_type": "execute_result"
    }
   ],
   "source": [
    "crud.update_record(table_name=\"test_table\",\n",
    "                   filters=InsertTableModel(table_to_insert=[\n",
    "                    ColumnModel(column_name=\"id\",data=3)]),\n",
    "                    data=InsertTableModel(table_to_insert=[\n",
    "                    ColumnModel(column_name=\"id\",data=4)])\n",
    ")"
   ]
  },
  {
   "cell_type": "code",
   "execution_count": 6,
   "metadata": {},
   "outputs": [
    {
     "name": "stdout",
     "output_type": "stream",
     "text": [
      "2024-09-24 20:25:25,878 INFO sqlalchemy.engine.Engine DELETE FROM test_table WHERE test_table.name = ?\n",
      "2024-09-24 20:25:25,880 INFO sqlalchemy.engine.Engine [generated in 0.00141s] ('Camila Cifarelli',)\n",
      "2024-09-24 20:25:25,898 INFO sqlalchemy.engine.Engine COMMIT\n"
     ]
    },
    {
     "data": {
      "text/plain": [
       "\"Record(s) deleted from 'test_table'!\""
      ]
     },
     "execution_count": 6,
     "metadata": {},
     "output_type": "execute_result"
    }
   ],
   "source": [
    "crud.delete_record(table_name=\"test_table\",\n",
    "                   filters=InsertTableModel(\n",
    "                       table_to_insert=[\n",
    "                           ColumnModel(column_name=\"name\",data=\"Camila Cifarelli\")\n",
    "                       ]\n",
    "                   ))"
   ]
  }
 ],
 "metadata": {
  "kernelspec": {
   "display_name": "Vang-DataBase-VlGJ2xV8",
   "language": "python",
   "name": "python3"
  },
  "language_info": {
   "codemirror_mode": {
    "name": "ipython",
    "version": 3
   },
   "file_extension": ".py",
   "mimetype": "text/x-python",
   "name": "python",
   "nbconvert_exporter": "python",
   "pygments_lexer": "ipython3",
   "version": "3.12.4"
  }
 },
 "nbformat": 4,
 "nbformat_minor": 2
}
