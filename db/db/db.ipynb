{
 "cells": [
  {
   "cell_type": "code",
   "execution_count": 1,
   "metadata": {},
   "outputs": [],
   "source": [
    "from db import DatabaseManager \n",
    "from models import TableModel,ColumnModel"
   ]
  },
  {
   "cell_type": "code",
   "execution_count": 2,
   "metadata": {},
   "outputs": [
    {
     "name": "stdout",
     "output_type": "stream",
     "text": [
      "2024-09-15 22:54:18,801 INFO sqlalchemy.engine.Engine BEGIN (implicit)\n",
      "2024-09-15 22:54:18,803 INFO sqlalchemy.engine.Engine COMMIT\n"
     ]
    },
    {
     "data": {
      "text/plain": [
       "'Database created!'"
      ]
     },
     "execution_count": 2,
     "metadata": {},
     "output_type": "execute_result"
    }
   ],
   "source": [
    "db_manager = DatabaseManager(r\"sqlite:///C:\\Users\\tomas\\Desktop\\Poyectos\\vanguard\\Vang-DataBase\\example.db\")\n",
    "db_manager.create_database()"
   ]
  },
  {
   "cell_type": "code",
   "execution_count": 9,
   "metadata": {},
   "outputs": [
    {
     "name": "stdout",
     "output_type": "stream",
     "text": [
      "2024-09-14 20:53:09,190 INFO sqlalchemy.engine.Engine BEGIN (implicit)\n",
      "2024-09-14 20:53:09,191 INFO sqlalchemy.engine.Engine COMMIT\n"
     ]
    },
    {
     "data": {
      "text/plain": [
       "'Database dropped!'"
      ]
     },
     "execution_count": 9,
     "metadata": {},
     "output_type": "execute_result"
    }
   ],
   "source": [
    "db_manager.drop_database()"
   ]
  },
  {
   "cell_type": "code",
   "execution_count": 7,
   "metadata": {},
   "outputs": [],
   "source": [
    "tm = TableModel(name=\"test_table\",\n",
    "                columns=[\n",
    "                    ColumnModel(name=\"nombre\",type=\"String\"),\n",
    "                    ColumnModel(name=\"edad\",type=\"Integer\"),\n",
    "                    ColumnModel(name=\"posta\",type=\"Boolean\"),\n",
    "                    ColumnModel(name=\"fecha\",type=\"Date\"),  \n",
    "                ])"
   ]
  },
  {
   "cell_type": "code",
   "execution_count": 8,
   "metadata": {},
   "outputs": [
    {
     "name": "stdout",
     "output_type": "stream",
     "text": [
      "2024-09-15 22:57:44,599 INFO sqlalchemy.engine.Engine BEGIN (implicit)\n",
      "2024-09-15 22:57:44,600 INFO sqlalchemy.engine.Engine \n",
      "CREATE TABLE test_table (\n",
      "\tnombre VARCHAR, \n",
      "\tedad INTEGER, \n",
      "\tposta BOOLEAN, \n",
      "\tfecha DATE\n",
      ")\n",
      "\n",
      "\n",
      "2024-09-15 22:57:44,601 INFO sqlalchemy.engine.Engine [no key 0.00079s] ()\n",
      "2024-09-15 22:57:44,624 INFO sqlalchemy.engine.Engine COMMIT\n"
     ]
    },
    {
     "data": {
      "text/plain": [
       "\"Table 'test_table' created!\""
      ]
     },
     "execution_count": 8,
     "metadata": {},
     "output_type": "execute_result"
    }
   ],
   "source": [
    "db_manager.create_table(tm)"
   ]
  },
  {
   "cell_type": "code",
   "execution_count": 5,
   "metadata": {},
   "outputs": [
    {
     "name": "stdout",
     "output_type": "stream",
     "text": [
      "2024-09-15 22:56:56,686 INFO sqlalchemy.engine.Engine BEGIN (implicit)\n",
      "2024-09-15 22:56:56,688 INFO sqlalchemy.engine.Engine \n",
      "DROP TABLE test_table\n",
      "2024-09-15 22:56:56,688 INFO sqlalchemy.engine.Engine [no key 0.00083s] ()\n",
      "2024-09-15 22:56:56,699 INFO sqlalchemy.engine.Engine COMMIT\n"
     ]
    },
    {
     "data": {
      "text/plain": [
       "\"Table 'test_table' dropped!\""
      ]
     },
     "execution_count": 5,
     "metadata": {},
     "output_type": "execute_result"
    }
   ],
   "source": [
    "db_manager.drop_table(\"test_table\")"
   ]
  },
  {
   "cell_type": "code",
   "execution_count": null,
   "metadata": {},
   "outputs": [],
   "source": [
    "·"
   ]
  }
 ],
 "metadata": {
  "kernelspec": {
   "display_name": "Vang-DataBase-VlGJ2xV8",
   "language": "python",
   "name": "python3"
  },
  "language_info": {
   "codemirror_mode": {
    "name": "ipython",
    "version": 3
   },
   "file_extension": ".py",
   "mimetype": "text/x-python",
   "name": "python",
   "nbconvert_exporter": "python",
   "pygments_lexer": "ipython3",
   "version": "3.12.4"
  }
 },
 "nbformat": 4,
 "nbformat_minor": 2
}
