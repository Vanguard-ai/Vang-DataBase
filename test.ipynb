{
 "cells": [
  {
   "cell_type": "code",
   "execution_count": 2,
   "metadata": {},
   "outputs": [
    {
     "name": "stdout",
     "output_type": "stream",
     "text": [
      "Crear usuario: {'message': \"Table 'test_table' created!\"}\n"
     ]
    }
   ],
   "source": [
    "import requests\n",
    "\n",
    "url = \"http://18.231.215.68:8000/tables/create_table/\"\n",
    "\n",
    "header={\"api-key\":\"Vanguard2024\"}\n",
    "\n",
    "data={\n",
    "  \"columns\": [\n",
    "    {\n",
    "      \"column_name\": \"id\",\n",
    "      \"column_type\": \"Integer\"\n",
    "    },\n",
    "    {\n",
    "      \"column_name\": \"name\",\n",
    "      \"column_type\": \"String\"\n",
    "    },\n",
    "    {\n",
    "      \"column_name\": \"age\",\n",
    "      \"column_type\": \"Integer\"\n",
    "    },\n",
    "    {\n",
    "      \"column_name\": \"height\",\n",
    "      \"column_type\": \"Float\"\n",
    "    }\n",
    "  ],\n",
    "  \"table_name\": \"test_table\"\n",
    "}\n",
    "\n",
    "response = requests.post(url, json=data, headers=header)\n",
    "print(\"Crear usuario:\", response.json())"
   ]
  },
  {
   "cell_type": "code",
   "execution_count": 9,
   "metadata": {},
   "outputs": [
    {
     "data": {
      "text/plain": [
       "<Response [200]>"
      ]
     },
     "execution_count": 9,
     "metadata": {},
     "output_type": "execute_result"
    }
   ],
   "source": [
    "data = {\n",
    "  \"table_to_insert\": [\n",
    "    {\n",
    "      \"column_name\": \"id\",\n",
    "      \"data\": 2\n",
    "    },\n",
    "    {\n",
    "      \"column_name\": \"name\",\n",
    "      \"data\": \"Augusto Farias\"\n",
    "    },\n",
    "    {\n",
    "      \"column_name\": \"age\",\n",
    "      \"data\": 22\n",
    "    },\n",
    "    {\n",
    "      \"column_name\": \"height\",\n",
    "      \"data\": 1.85\n",
    "    }\n",
    "  ]\n",
    "  \n",
    "}\n",
    "\n",
    "requests.post(url=\"http://18.231.215.68:8000/crud/crud_add/test_table\",headers=header,json=data)"
   ]
  },
  {
   "cell_type": "code",
   "execution_count": 10,
   "metadata": {},
   "outputs": [
    {
     "data": {
      "text/plain": [
       "{'table_query': [{'column_name': 'id', 'data': 1},\n",
       "  {'column_name': 'name', 'data': 'Tomas Navarro'},\n",
       "  {'column_name': 'age', 'data': 24},\n",
       "  {'column_name': 'height', 'data': 1.7},\n",
       "  {'column_name': 'id', 'data': 2},\n",
       "  {'column_name': 'name', 'data': 'Augusto Farias'},\n",
       "  {'column_name': 'age', 'data': 22},\n",
       "  {'column_name': 'height', 'data': 1.85}]}"
      ]
     },
     "execution_count": 10,
     "metadata": {},
     "output_type": "execute_result"
    }
   ],
   "source": [
    "response=requests.post(url=\"http://18.231.215.68:8000/crud/crud_query/test_table\",headers=header,json=None)\n",
    "response.json()"
   ]
  }
 ],
 "metadata": {
  "kernelspec": {
   "display_name": "Vang-DataBase-VlGJ2xV8",
   "language": "python",
   "name": "python3"
  },
  "language_info": {
   "codemirror_mode": {
    "name": "ipython",
    "version": 3
   },
   "file_extension": ".py",
   "mimetype": "text/x-python",
   "name": "python",
   "nbconvert_exporter": "python",
   "pygments_lexer": "ipython3",
   "version": "3.12.4"
  }
 },
 "nbformat": 4,
 "nbformat_minor": 2
}
